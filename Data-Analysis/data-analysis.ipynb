{
 "cells": [
  {
   "cell_type": "markdown",
   "id": "6f07bc51",
   "metadata": {},
   "source": [
    "# NBA Dashboard"
   ]
  },
  {
   "cell_type": "code",
   "execution_count": null,
   "id": "1b378aee",
   "metadata": {},
   "outputs": [],
   "source": [
    "import pandas as pd\n",
    "import matplotlib.pyplot as plt\n",
    "import numpy as np"
   ]
  },
  {
   "cell_type": "code",
   "execution_count": null,
   "id": "849e07ad",
   "metadata": {},
   "outputs": [],
   "source": [
    "NBA_data = pd.read_csv('../Data/Player.csv')\n",
    "NBA_data.head()"
   ]
  },
  {
   "cell_type": "markdown",
   "id": "b1741a3f",
   "metadata": {},
   "source": [
    "1. Remove all the players that is not from the NBA league and Drop Unnecessary Columns()"
   ]
  },
  {
   "cell_type": "code",
   "execution_count": null,
   "id": "701945ca",
   "metadata": {},
   "outputs": [],
   "source": [
    "# Remove all the players that is not from the NBA league\n",
    "print(\"Remove all the players that is not from the NBA league:\")\n",
    "print(NBA_data['lg'].unique())\n",
    "NBA_data = NBA_data[NBA_data['lg'] == 'NBA']\n",
    "print(NBA_data['lg'].unique())\n",
    "print(\"Number of NBA players:\", len(NBA_data))\n",
    "print()\n",
    "\n",
    "# Remove all the players that does not have a position\n",
    "print(\"Remove all the players that does not have a position:\")\n",
    "print(NBA_data['pos'].unique())\n",
    "NBA_data = NBA_data[NBA_data['pos'].notna()]\n",
    "print(NBA_data['pos'].unique())\n",
    "print(\"Number of players with a position:\", len(NBA_data))\n",
    "print()\n",
    "\n",
    "# Remove all the players that is not in the current 30 teams\n",
    "print(\"Remove all the players that is not in the current 30 teams:\")\n",
    "current_teams = ['ATL', 'BKN', 'BOS', 'CHA', 'CHI', 'CLE', 'DAL', 'DEN', 'DET', 'GSW',\n",
    "                 'HOU', 'IND', 'LAC', 'LAL', 'MEM', 'MIA', 'MIL', 'MIN', 'NOP', 'NYK',\n",
    "                 'OKC', 'ORL', 'PHI', 'PHX', 'POR', 'SAC', 'SAS', 'TOR', 'UTA', 'WAS']\n",
    "NBA_data = NBA_data[NBA_data['team'].isin(current_teams)]\n",
    "print(NBA_data['team'].unique())\n",
    "print(\"Number of players in the current 30 teams:\", len(NBA_data))\n",
    "print()\n",
    "\n",
    "# Drop Unnecessary Columns(lg, trp_dbl)\n",
    "NBA_data = NBA_data.drop(columns=['lg'])\n",
    "\n",
    "NBA_data.head()"
   ]
  },
  {
   "cell_type": "markdown",
   "id": "be824dd2",
   "metadata": {},
   "source": [
    "2. Remove empty data and fill out empty data with 0 as the players had never done any shooting in 2-points/3-points/Free Throws during the season"
   ]
  },
  {
   "cell_type": "code",
   "execution_count": null,
   "id": "7c59b866",
   "metadata": {},
   "outputs": [],
   "source": [
    "NBA_data.isna().sum()"
   ]
  },
  {
   "cell_type": "code",
   "execution_count": null,
   "id": "44614e89",
   "metadata": {},
   "outputs": [],
   "source": [
    "NBA_data = NBA_data[NBA_data['x2p'].notna()]\n",
    "NBA_data = NBA_data[NBA_data['gs'].notna()]\n",
    "NBA_data = NBA_data[NBA_data['trp_dbl'].notna()]"
   ]
  },
  {
   "cell_type": "code",
   "execution_count": null,
   "id": "e38ea707",
   "metadata": {},
   "outputs": [],
   "source": [
    "NBA_data.isna().sum()"
   ]
  },
  {
   "cell_type": "code",
   "execution_count": null,
   "id": "de1e3d77",
   "metadata": {},
   "outputs": [],
   "source": [
    "NBA_data = NBA_data.fillna({'fg_percent':0, 'x3p_percent':0, 'x2p_percent':0, 'e_fg_percent':0, 'ft_percent':0})\n",
    "NBA_data.isna().sum()"
   ]
  },
  {
   "cell_type": "markdown",
   "id": "a0101f6d",
   "metadata": {},
   "source": [
    "3. Create New Columns for players stat and rename some colunms to be more informative\n",
    "> mpg: Minutes Per Game<br>\n",
    "> fpg: Field Goal Per Game<br>\n",
    "> fapg: Field Goal Attempt Per Game<br>\n",
    "> 3pg: 3-pointer made Per Game<br>\n",
    "> 3apg: 3-pointer Attempt Per Game<br>\n",
    "> 2pg: 2-pointer made Per Game<br>\n",
    "> 2apg: 2-pointer Attempt Per Game<br>\n",
    "> ftpg: Free Throw made Per Game<br>\n",
    "> ftapg: Free Throw Attempt Per Game<br>\n",
    "> orbpg: Offensive Rebound Per Game<br>\n",
    "> drbpg: Defensive Rebound Per Game<br>\n",
    "> trbpg: Total Rebound Per Game<br>\n",
    "> astpg: Assist Per Game<br>\n",
    "> stlpg: Steal Per Game<br>\n",
    "> blkpg: BLock Per Game<br>\n",
    "> tovpg: Turnover Per Game<br>\n",
    "> pfpg: Personal Foul Per Game<br>\n",
    "> ppg: Point Per Game<br>"
   ]
  },
  {
   "cell_type": "code",
   "execution_count": null,
   "id": "ee4992ca",
   "metadata": {},
   "outputs": [],
   "source": [
    "# Rename some colunms to be more informative\n",
    "print(NBA_data.columns)\n",
    "NBA_data = NBA_data.rename(columns={\n",
    "    'g': 'games',\n",
    "    'gs' : 'games_started',\n",
    "    'x3p' : '3p',\n",
    "    'x3pa' : '3pa',\n",
    "    'x3p_percent' : '3p%',\n",
    "    'x2p' : '2p',\n",
    "    'x2pa' : '2pa',\n",
    "    'x2p_percent' : '2p%',\n",
    "    'mp' : 'minutes',\n",
    "    'e_fg_percent' : 'efg%',\n",
    "    'ft_percent' : 'ft%',\n",
    "    'fg_percent' : 'fg%',\n",
    "})\n",
    "print(NBA_data.columns)\n",
    "print()\n",
    "\n",
    "# Create New Columns for players stat\n",
    "NBA_data['mpg'] = np.round(NBA_data['minutes'] / NBA_data['games'], 1)\n",
    "NBA_data['fpg'] = np.round(NBA_data['fg'] / NBA_data['games'], 1)\n",
    "NBA_data['fapg'] = np.round(NBA_data['fga'] / NBA_data['games'], 1)\n",
    "NBA_data['3pg'] = np.round(NBA_data['3p'] / NBA_data['games'], 1)\n",
    "NBA_data['3apg'] = np.round(NBA_data['3pa'] / NBA_data['games'], 1)\n",
    "NBA_data['2pg'] = np.round(NBA_data['2p'] / NBA_data['games'], 1)\n",
    "NBA_data['2apg'] = np.round(NBA_data['2pa'] / NBA_data['games'], 1)\n",
    "NBA_data['ftpg'] = np.round(NBA_data['ft'] / NBA_data['games'], 1)\n",
    "NBA_data['ftapg'] = np.round(NBA_data['fta'] / NBA_data['games'], 1)\n",
    "NBA_data['orbpg'] = np.round(NBA_data['orb'] / NBA_data['games'], 1)\n",
    "NBA_data['drbpg'] = np.round(NBA_data['drb'] / NBA_data['games'], 1)\n",
    "NBA_data['trbpg'] = np.round(NBA_data['trb'] / NBA_data['games'], 1)\n",
    "NBA_data['astpg'] = np.round(NBA_data['ast'] / NBA_data['games'], 1)\n",
    "NBA_data['stlpg'] = np.round(NBA_data['stl'] / NBA_data['games'], 1)\n",
    "NBA_data['blkpg'] = np.round(NBA_data['blk'] / NBA_data['games'], 1)\n",
    "NBA_data['tovpg'] = np.round(NBA_data['tov'] / NBA_data['games'], 1)\n",
    "NBA_data['pfpg'] = np.round(NBA_data['pf'] / NBA_data['games'], 1)\n",
    "NBA_data['ppg'] = np.round(NBA_data['pts'] / NBA_data['games'], 1)\n",
    "\n",
    "print(NBA_data.columns)\n"
   ]
  },
  {
   "cell_type": "code",
   "execution_count": null,
   "id": "433f7e29",
   "metadata": {},
   "outputs": [],
   "source": [
    "NBA_data.head()"
   ]
  },
  {
   "cell_type": "code",
   "execution_count": null,
   "id": "cf849590",
   "metadata": {},
   "outputs": [],
   "source": []
  }
 ],
 "metadata": {
  "kernelspec": {
   "display_name": "Python 3",
   "language": "python",
   "name": "python3"
  },
  "language_info": {
   "codemirror_mode": {
    "name": "ipython",
    "version": 3
   },
   "file_extension": ".py",
   "mimetype": "text/x-python",
   "name": "python",
   "nbconvert_exporter": "python",
   "pygments_lexer": "ipython3",
   "version": "3.11.4"
  }
 },
 "nbformat": 4,
 "nbformat_minor": 5
}
